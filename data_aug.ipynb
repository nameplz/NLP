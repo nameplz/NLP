{
 "cells": [
  {
   "cell_type": "code",
   "execution_count": 1,
   "id": "755f70cb",
   "metadata": {
    "scrolled": true
   },
   "outputs": [
    {
     "name": "stdout",
     "output_type": "stream",
     "text": [
      "문장이 22.csv에 저장되었습니다.\n"
     ]
    }
   ],
   "source": [
    "import csv\n",
    "import openai\n",
    "import os\n",
    "\n",
    "model = \"gpt-3.5-turbo\"\n",
    "openai.api_key = ''\n",
    "\n",
    "def save_sentences_to_csv(sentences, filename):\n",
    "    with open(filename, 'w', encoding='utf-8-sig', newline='') as file:\n",
    "        writer = csv.writer(file)\n",
    "        writer.writerow(['Index', 'Sentence'])\n",
    "        for i, sentence in enumerate(sentences, start=1):\n",
    "            writer.writerow([f\"{i}: {sentence}\"])\n",
    "\n",
    "def generate_similar_sentences(prompt, num_sentences):\n",
    "    response = openai.ChatCompletion.create(\n",
    "        model=model,\n",
    "        messages=[\n",
    "            {\"role\": \"system\", \"content\": \"You are a helpful assistant.\"},\n",
    "            {\"role\": \"user\", \"content\": prompt}\n",
    "        ],\n",
    "        max_tokens=200,\n",
    "        n=num_sentences,\n",
    "        stop=None,\n",
    "        temperature=0.9,\n",
    "        frequency_penalty=1.8\n",
    "    )\n",
    "\n",
    "    sentences = [choice['message']['content'].strip() for choice in response['choices']]\n",
    "    return sentences\n",
    "\n",
    "# CSV 파일에서 prompt 문장 읽어오기\n",
    "filename = 'prompt.csv'\n",
    "prompts = []\n",
    "with open(filename, 'r', encoding='utf-8-sig') as file:\n",
    "    reader = csv.reader(file)\n",
    "    next(reader)  # 헤더 건너뛰기\n",
    "    for row in reader:\n",
    "        prompt = row[0]  # 첫 번째 열에 있는 prompt 문장 읽어오기\n",
    "        prompts.append(prompt)\n",
    "\n",
    "# 비슷한 문장 생성\n",
    "num_sentences = 25\n",
    "similar_sentences = []\n",
    "for prompt in prompts:\n",
    "    generated_sentences = generate_similar_sentences(prompt, num_sentences)\n",
    "    similar_sentences.extend(generated_sentences)\n",
    "\n",
    "# CSV 파일로 저장\n",
    "filename = '22.csv'\n",
    "save_sentences_to_csv(similar_sentences, filename)\n",
    "print(f\"문장이 {filename}에 저장되었습니다.\")\n"
   ]
  },
  {
   "cell_type": "code",
   "execution_count": null,
   "id": "6c80df79",
   "metadata": {},
   "outputs": [],
   "source": []
  }
 ],
 "metadata": {
  "kernelspec": {
   "display_name": "Python 3 (ipykernel)",
   "language": "python",
   "name": "python3"
  },
  "language_info": {
   "codemirror_mode": {
    "name": "ipython",
    "version": 3
   },
   "file_extension": ".py",
   "mimetype": "text/x-python",
   "name": "python",
   "nbconvert_exporter": "python",
   "pygments_lexer": "ipython3",
   "version": "3.9.15"
  }
 },
 "nbformat": 4,
 "nbformat_minor": 5
}
