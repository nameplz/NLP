{
 "cells": [
  {
   "cell_type": "code",
   "execution_count": 1,
   "metadata": {},
   "outputs": [],
   "source": [
    "import openai"
   ]
  },
  {
   "cell_type": "code",
   "execution_count": 7,
   "metadata": {},
   "outputs": [],
   "source": [
    "API_KEY = ''\n",
    "model = 'gpt-3.5-turbo'\n"
   ]
  },
  {
   "cell_type": "code",
   "execution_count": 10,
   "metadata": {},
   "outputs": [],
   "source": [
    "def GPT(query, API_KEY=API_KEY):\n",
    "    \n",
    "    # set api key\n",
    "    openai.api_key = API_KEY\n",
    "\n",
    "    messages = [\n",
    "            {\"role\": \"system\", \"content\": \"You are a helpful assistant.\"},\n",
    "            {\"role\": \"user\", \"content\": query}\n",
    "        ]\n",
    "\n",
    "    # Call the chat GPT API\n",
    "    response = openai.ChatCompletion.create(\n",
    "        model = model,\n",
    "        messages = messages\n",
    "    )\n",
    "    return response['choices'][0]['message']['content']\n",
    "\n",
    "\n",
    "def chat():\n",
    "    # 지문 입력 란\n",
    "    query = input(\"Insert a prompt: \")\n",
    "    print(GPT(query).strip())"
   ]
  },
  {
   "cell_type": "code",
   "execution_count": 13,
   "metadata": {},
   "outputs": [
    {
     "name": "stdout",
     "output_type": "stream",
     "text": [
      "우선적으로 중요한 것은 자신의 안전을 확인하는 것입니다. 상처가 심하다면 가까운 병원이나 응급실에서 치료를 받으세요. 그 다음에는 교사 혹은 학교 관계자에게 상황을 말씀하시는 것을 추천합니다. 교사 혹은 학교 관계자는 학교 내 폭력 문제에 대해 적극적으로 대처할 의무가 있으며, 당신을 도와줄 수 있습니다. 상황에 따라 가해자에 대해서는 법적 조치도 필요할 수 있습니다. 때문에 가해자의 신상 정보와 관련된 상세한 내용을 기억해두는 것이 좋습니다. 또한, 자신을 지켜줄 수 있는 가치있는 친구들과 함께 일어서는 것도 좋은 방법입니다.\n"
     ]
    }
   ],
   "source": [
    "chat()"
   ]
  }
 ],
 "metadata": {
  "kernelspec": {
   "display_name": "py3.9",
   "language": "python",
   "name": "python3"
  },
  "language_info": {
   "codemirror_mode": {
    "name": "ipython",
    "version": 3
   },
   "file_extension": ".py",
   "mimetype": "text/x-python",
   "name": "python",
   "nbconvert_exporter": "python",
   "pygments_lexer": "ipython3",
   "version": "3.9.0"
  },
  "orig_nbformat": 4,
  "vscode": {
   "interpreter": {
    "hash": "cac221e5f322695a58369e947f8e970d5a67b3463eeb84011e0ab3f078d843be"
   }
  }
 },
 "nbformat": 4,
 "nbformat_minor": 2
}
